{
  "nbformat": 4,
  "nbformat_minor": 0,
  "metadata": {
    "colab": {
      "provenance": [],
      "authorship_tag": "ABX9TyOI9DnB6Ostp5FoPOn9C5Cu",
      "include_colab_link": true
    },
    "kernelspec": {
      "name": "python3",
      "display_name": "Python 3"
    },
    "language_info": {
      "name": "python"
    }
  },
  "cells": [
    {
      "cell_type": "markdown",
      "metadata": {
        "id": "view-in-github",
        "colab_type": "text"
      },
      "source": [
        "<a href=\"https://colab.research.google.com/github/ShawnLiu119/Recommendation_ML_CB-CF-Hyb/blob/main/Recommendation_CB_CF_Hyb.ipynb\" target=\"_parent\"><img src=\"https://colab.research.google.com/assets/colab-badge.svg\" alt=\"Open In Colab\"/></a>"
      ]
    },
    {
      "cell_type": "markdown",
      "source": [
        "# **Overview all regular recommendation system approach - CB/CF/Hybrid**"
      ],
      "metadata": {
        "id": "K7l4fE3qYejR"
      }
    },
    {
      "cell_type": "markdown",
      "source": [
        "### **Term** <br>\n",
        "**content based** should give you pretty safe recommendations. However, they may bound to what you already know your customers like.\n",
        "\n",
        "**collaborative filtering approach** recommends items liked by customers whose choice is similar to yours\n",
        "\n",
        "**cold start** for that particular customer or that particular item, meaning that you could not educatedly predict someone without knowing even a thing of that person: a **knowledge-based approach** would do the job to find out something of the newcomers by you **sending out questionnaire** to collect their personal preference with their consent.\n",
        "\n",
        "**Recommendation strategy is dependent on how much you know your customers**"
      ],
      "metadata": {
        "id": "nb06-0JBZiFY"
      }
    },
    {
      "cell_type": "markdown",
      "source": [
        "data summary<br>\n",
        "\n",
        " It contains events that a **customer view / add-to-cart / purchase an item**[INTERACTION], and the category hierarchy for each of the items. The ~235000 items are categorized in ~1300 categories and these categories are further grouped into some ~400 parent categories."
      ],
      "metadata": {
        "id": "jkO5mF8qeCco"
      }
    },
    {
      "cell_type": "markdown",
      "source": [
        "Reference:https://github.com/recommenders-team/recommenders"
      ],
      "metadata": {
        "id": "B17pBdN1jeKl"
      }
    },
    {
      "cell_type": "code",
      "source": [
        "R"
      ],
      "metadata": {
        "id": "L4k_x6nVjdtB"
      },
      "execution_count": null,
      "outputs": []
    },
    {
      "cell_type": "code",
      "source": [],
      "metadata": {
        "id": "VgW5n7thZhOg"
      },
      "execution_count": null,
      "outputs": []
    },
    {
      "cell_type": "code",
      "execution_count": null,
      "metadata": {
        "id": "jNIAA74xYZ1G"
      },
      "outputs": [],
      "source": []
    }
  ]
}